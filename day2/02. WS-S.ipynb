{
 "cells": [
  {
   "cell_type": "markdown",
   "metadata": {},
   "source": [
    "### Q1\n",
    "- 다음의 세 문자에서 중복으로 사용된 알파벳만 출력하세요. \n",
    "    - 대소문자를 구분합니다.\n",
    "```python\n",
    "\"Hello python\"\n",
    "\"Funny programming\"\n",
    "\"Happy newyear\"```"
   ]
  },
  {
   "cell_type": "code",
   "execution_count": 8,
   "metadata": {},
   "outputs": [
    {
     "data": {
      "text/plain": [
       "{'n', 'p', 'y'}"
      ]
     },
     "execution_count": 8,
     "metadata": {},
     "output_type": "execute_result"
    }
   ],
   "source": [
    "set(\"Hello python\")&set(\"Funny programming\")&set(\"Happynewyear\")"
   ]
  },
  {
   "cell_type": "markdown",
   "metadata": {},
   "source": [
    "### Q2\n",
    "- 다음과 같은 규칙을 가진 숫자의 합을 for문을 사용해서 구현하세요.\n",
    "   - 1 + (1 + 3) + (1 + 3 + 5) + (1 + 3 + 5 + 7) + ... + (1 + 3 + ... + 19)"
   ]
  },
  {
   "cell_type": "code",
   "execution_count": 7,
   "metadata": {},
   "outputs": [
    {
     "name": "stdout",
     "output_type": "stream",
     "text": [
      "385\n"
     ]
    }
   ],
   "source": [
    "total = 0\n",
    "for i in range(1,11):\n",
    "    subtotal = 0\n",
    "    for j in range(i):\n",
    "        subtotal += 2*j+1\n",
    "    total += subtotal\n",
    "print(total)"
   ]
  },
  {
   "cell_type": "markdown",
   "metadata": {},
   "source": [
    "### Q3\n",
    "- 사용자가 키보드로 입력한 값을 출력하는 프로그램을 만드세요.\n",
    "    - 사용자가 입력한 값이 Q와 같지 않는다면 입력과 출력을 반복합니다."
   ]
  },
  {
   "cell_type": "code",
   "execution_count": 9,
   "metadata": {},
   "outputs": [
    {
     "name": "stdout",
     "output_type": "stream",
     "text": [
      "1\n",
      "1\n",
      "2\n",
      "2\n",
      "3\n",
      "3\n",
      "Q\n"
     ]
    }
   ],
   "source": [
    "word = input()\n",
    "\n",
    "while word != 'Q':\n",
    "    print(word)\n",
    "    \n",
    "    word = input()"
   ]
  },
  {
   "cell_type": "markdown",
   "metadata": {},
   "source": [
    "### Q4\n",
    "\n",
    "- random 모듈의 randrange() 함수를 사용해서 1부터 45까지의 중복되지 않은 숫자 6개를 뽑으세요.\n",
    "    - 예) [5, 10, 12, 15, 22, 39]"
   ]
  },
  {
   "cell_type": "code",
   "execution_count": 6,
   "metadata": {},
   "outputs": [
    {
     "data": {
      "text/plain": [
       "[11, 28, 41, 34, 32, 11, 12]"
      ]
     },
     "execution_count": 6,
     "metadata": {},
     "output_type": "execute_result"
    }
   ],
   "source": [
    "import random\n",
    "\n",
    "numbers = []\n",
    "while len(set(numbers))!=6:\n",
    "    numbers.append(random.randrange(1,46))\n",
    "numbers"
   ]
  },
  {
   "cell_type": "markdown",
   "metadata": {},
   "source": [
    "### Q5\n",
    "    - 학점을 입력받아서 학점의 평균을 출력하는 함수를 구현해보세요.\n",
    "        - 함수 이름은 meanGrade(grade)로 하세요.\n",
    "        \n",
    "    - 등급에 따른 학점은 다음과 같습니다.\n",
    "        - A+ : 4.5, A : 4.3, A- : 4.0\n",
    "        - B+ : 3.5, B : 3.3, B- : 3.0\n",
    "        - C : 2.5, D : 1.5\n",
    "\n",
    "    - 학점을 입력받아 함수의 인자(grade)로 전달하세요.\n",
    "        - 예) \"A+,A-,B+\"를 입력한 경우\n",
    "            - 평균 : 4.0"
   ]
  },
  {
   "cell_type": "code",
   "execution_count": 4,
   "metadata": {},
   "outputs": [
    {
     "name": "stdout",
     "output_type": "stream",
     "text": [
      "A+,A-,B+\n",
      "평균 : 4.0\n"
     ]
    }
   ],
   "source": [
    "def meanGrade(grade):\n",
    "    grades = grade.split(',')\n",
    "    score = {'A+' : 4.5, 'A' : 4.3, 'A-' : 4.0, 'B+' : 3.5, 'B': 3.3, 'B-': 3.0, 'C' : 2.5, 'D' : 1.5}\n",
    "    total = 0\n",
    "    for e in grades:\n",
    "        total += score[e]\n",
    "    print('평균 : %.1f' %(total/len(grades)))\n",
    "grade = input()\n",
    "meanGrade(grade)"
   ]
  }
 ],
 "metadata": {
  "kernelspec": {
   "display_name": "Python 3",
   "language": "python",
   "name": "python3"
  },
  "language_info": {
   "codemirror_mode": {
    "name": "ipython",
    "version": 3
   },
   "file_extension": ".py",
   "mimetype": "text/x-python",
   "name": "python",
   "nbconvert_exporter": "python",
   "pygments_lexer": "ipython3",
   "version": "3.7.4"
  }
 },
 "nbformat": 4,
 "nbformat_minor": 4
}
